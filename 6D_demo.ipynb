{
 "cells": [
  {
   "cell_type": "markdown",
   "id": "b964fab4",
   "metadata": {},
   "source": [
    "# Preprocessing\n",
    "\n",
    "Generate ycb images into a video file."
   ]
  },
  {
   "cell_type": "code",
   "execution_count": 1,
   "id": "5b66f0f4",
   "metadata": {},
   "outputs": [
    {
     "name": "stdout",
     "output_type": "stream",
     "text": [
      "Saved video: data/video/0001.mp4\n"
     ]
    }
   ],
   "source": [
    "from utils import make_video\n",
    "\n",
    "make_video()"
   ]
  },
  {
   "cell_type": "markdown",
   "id": "1c64df72",
   "metadata": {},
   "source": [
    "Generate a segmentation mask from the target video."
   ]
  },
  {
   "cell_type": "code",
   "execution_count": 12,
   "id": "4992e8f3",
   "metadata": {},
   "outputs": [
    {
     "name": "stdout",
     "output_type": "stream",
     "text": [
      "FastSAM inference completed successfully.\n",
      "Namespace(model_path='FastSAM/weights/FastSAM.pt', img_path='data/0001/000001-color.jpg', imgsz=1024, iou=0.9, text_prompt='can', conf=0.4, output='data/mask', randomcolor=True, point_prompt='[[0,0]]', point_label='[0]', box_prompt='[[0,0,0,0]]', better_quality=False, device=device(type='cuda'), retina=True, withContours=False)\n",
      "everything_results: None\n",
      "Using text prompt: can\n",
      "self.results: None\n",
      "[]\n",
      "Ran FastSAM Using device: cuda, text prompt: can, image size: 1024, iou: 0.9, conf: 0.4\n",
      "\n"
     ]
    }
   ],
   "source": [
    "from utils import fastSAM_inference\n",
    "\n",
    "INPUT_DIR= \"data/0001\"\n",
    "OUTPUT_DIR = \"data/mask\"\n",
    "\n",
    "fastSAM_inference(\n",
    "\ttext_prompt=\"can\",\n",
    "\timg_path=f\"{INPUT_DIR}/000001-color.jpg\",\n",
    "\toutput_path=OUTPUT_DIR\n",
    ")"
   ]
  },
  {
   "cell_type": "code",
   "execution_count": null,
   "id": "2b2c81ce",
   "metadata": {},
   "outputs": [
    {
     "name": "stdout",
     "output_type": "stream",
     "text": [
      "cat: fdata/0001/mask/000001-color.jpg: No such file or directory\n"
     ]
    }
   ],
   "source": []
  },
  {
   "cell_type": "code",
   "execution_count": 2,
   "id": "0c69cf80",
   "metadata": {},
   "outputs": [
    {
     "ename": "FileNotFoundError",
     "evalue": "[Errno 2] No such file or directory: 'data/0001/mask/000001-color.jpg'",
     "output_type": "error",
     "traceback": [
      "\u001b[0;31m---------------------------------------------------------------------------\u001b[0m",
      "\u001b[0;31mFileNotFoundError\u001b[0m                         Traceback (most recent call last)",
      "Cell \u001b[0;32mIn[2], line 6\u001b[0m\n\u001b[1;32m      3\u001b[0m \u001b[38;5;28;01mimport\u001b[39;00m\u001b[38;5;250m \u001b[39m\u001b[38;5;21;01mmatplotlib\u001b[39;00m\u001b[38;5;21;01m.\u001b[39;00m\u001b[38;5;21;01mpyplot\u001b[39;00m\u001b[38;5;250m \u001b[39m\u001b[38;5;28;01mas\u001b[39;00m\u001b[38;5;250m \u001b[39m\u001b[38;5;21;01mplt\u001b[39;00m\n\u001b[1;32m      5\u001b[0m mask_image_path \u001b[38;5;241m=\u001b[39m \u001b[38;5;124mf\u001b[39m\u001b[38;5;124m\"\u001b[39m\u001b[38;5;132;01m{\u001b[39;00mOUTPUT_DIR\u001b[38;5;132;01m}\u001b[39;00m\u001b[38;5;124m/000001-color.jpg\u001b[39m\u001b[38;5;124m\"\u001b[39m\n\u001b[0;32m----> 6\u001b[0m mask_img \u001b[38;5;241m=\u001b[39m \u001b[43mImage\u001b[49m\u001b[38;5;241;43m.\u001b[39;49m\u001b[43mopen\u001b[49m\u001b[43m(\u001b[49m\u001b[43mmask_image_path\u001b[49m\u001b[43m)\u001b[49m\n\u001b[1;32m      7\u001b[0m plt\u001b[38;5;241m.\u001b[39mimshow(mask_img)\n\u001b[1;32m      8\u001b[0m plt\u001b[38;5;241m.\u001b[39maxis(\u001b[38;5;124m'\u001b[39m\u001b[38;5;124moff\u001b[39m\u001b[38;5;124m'\u001b[39m)\n",
      "File \u001b[0;32m~/Desktop/workspace/woosung/ycb-tracking/.venv/lib/python3.10/site-packages/PIL/Image.py:3513\u001b[0m, in \u001b[0;36mopen\u001b[0;34m(fp, mode, formats)\u001b[0m\n\u001b[1;32m   3511\u001b[0m \u001b[38;5;28;01mif\u001b[39;00m is_path(fp):\n\u001b[1;32m   3512\u001b[0m     filename \u001b[38;5;241m=\u001b[39m os\u001b[38;5;241m.\u001b[39mfspath(fp)\n\u001b[0;32m-> 3513\u001b[0m     fp \u001b[38;5;241m=\u001b[39m \u001b[43mbuiltins\u001b[49m\u001b[38;5;241;43m.\u001b[39;49m\u001b[43mopen\u001b[49m\u001b[43m(\u001b[49m\u001b[43mfilename\u001b[49m\u001b[43m,\u001b[49m\u001b[43m \u001b[49m\u001b[38;5;124;43m\"\u001b[39;49m\u001b[38;5;124;43mrb\u001b[39;49m\u001b[38;5;124;43m\"\u001b[39;49m\u001b[43m)\u001b[49m\n\u001b[1;32m   3514\u001b[0m     exclusive_fp \u001b[38;5;241m=\u001b[39m \u001b[38;5;28;01mTrue\u001b[39;00m\n\u001b[1;32m   3515\u001b[0m \u001b[38;5;28;01melse\u001b[39;00m:\n",
      "\u001b[0;31mFileNotFoundError\u001b[0m: [Errno 2] No such file or directory: 'data/0001/mask/000001-color.jpg'"
     ]
    }
   ],
   "source": [
    "from PIL import Image\n",
    "\n",
    "import matplotlib.pyplot as plt\n",
    "\n",
    "mask_image_path = f\"{OUTPUT_DIR}/000001-color.jpg\"\n",
    "mask_img = Image.open(mask_image_path)\n",
    "plt.imshow(mask_img)\n",
    "plt.axis('off')\n",
    "plt.title('Segmentation Mask')\n",
    "plt.show()"
   ]
  },
  {
   "cell_type": "code",
   "execution_count": null,
   "id": "65033a9d",
   "metadata": {},
   "outputs": [],
   "source": []
  },
  {
   "cell_type": "code",
   "execution_count": null,
   "id": "4a96aaf8",
   "metadata": {},
   "outputs": [],
   "source": []
  }
 ],
 "metadata": {
  "kernelspec": {
   "display_name": "ycb-tracking",
   "language": "python",
   "name": "python3"
  },
  "language_info": {
   "codemirror_mode": {
    "name": "ipython",
    "version": 3
   },
   "file_extension": ".py",
   "mimetype": "text/x-python",
   "name": "python",
   "nbconvert_exporter": "python",
   "pygments_lexer": "ipython3",
   "version": "3.10.18"
  }
 },
 "nbformat": 4,
 "nbformat_minor": 5
}
